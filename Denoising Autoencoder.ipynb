{
 "cells": [
  {
   "cell_type": "code",
   "execution_count": 1,
   "metadata": {},
   "outputs": [
    {
     "name": "stderr",
     "output_type": "stream",
     "text": [
      "/usr/local/lib/python3.5/dist-packages/h5py/__init__.py:36: FutureWarning: Conversion of the second argument of issubdtype from `float` to `np.floating` is deprecated. In future, it will be treated as `np.float64 == np.dtype(float).type`.\n",
      "  from ._conv import register_converters as _register_converters\n",
      "Using TensorFlow backend.\n"
     ]
    }
   ],
   "source": [
    "import keras\n",
    "from keras.layers import Activation, Dense, Input\n",
    "from keras.layers import Conv2D, Flatten\n",
    "from keras.layers import Reshape, Conv2DTranspose, UpSampling2D\n",
    "from keras.datasets import mnist\n",
    "from keras.models import Sequential\n",
    "import numpy as np\n",
    "import matplotlib.pyplot as plt\n",
    "%matplotlib inline"
   ]
  },
  {
   "cell_type": "code",
   "execution_count": 2,
   "metadata": {},
   "outputs": [],
   "source": [
    "(x_train,_) , (x_test , _) = mnist.load_data()"
   ]
  },
  {
   "cell_type": "code",
   "execution_count": 3,
   "metadata": {},
   "outputs": [
    {
     "data": {
      "text/plain": [
       "(60000, 28, 28)"
      ]
     },
     "execution_count": 3,
     "metadata": {},
     "output_type": "execute_result"
    }
   ],
   "source": [
    "x_train.shape"
   ]
  },
  {
   "cell_type": "code",
   "execution_count": 4,
   "metadata": {},
   "outputs": [
    {
     "data": {
      "text/plain": [
       "<matplotlib.image.AxesImage at 0x7f5b82bf3c18>"
      ]
     },
     "execution_count": 4,
     "metadata": {},
     "output_type": "execute_result"
    },
    {
     "data": {
      "image/png": "[encoded data removed]",
      "text/plain": [
       "<Figure size 72x72 with 1 Axes>"
      ]
     },
     "metadata": {},
     "output_type": "display_data"
    }
   ],
   "source": [
    "plt.figure(figsize = (1,1))\n",
    "plt.imshow(x_train[1,:,:] , shape = (1,28,28) , cmap = 'gray')"
   ]
  },
  {
   "cell_type": "code",
   "execution_count": 5,
   "metadata": {},
   "outputs": [],
   "source": [
    "noise = np.random.normal(loc=0, scale=1, size=x_train.shape)\n",
    "x_train_noisy = x_train + noise\n",
    "noise = np.random.normal(loc=0, scale=1, size=x_test.shape)\n",
    "x_test_noisy = x_test + noise"
   ]
  },
  {
   "cell_type": "code",
   "execution_count": 6,
   "metadata": {},
   "outputs": [
    {
     "data": {
      "text/plain": [
       "(60000, 28, 28)"
      ]
     },
     "execution_count": 6,
     "metadata": {},
     "output_type": "execute_result"
    }
   ],
   "source": [
    "x_train_noisy.shape"
   ]
  },
  {
   "cell_type": "code",
   "execution_count": 7,
   "metadata": {},
   "outputs": [
    {
     "data": {
      "text/plain": [
       "<matplotlib.image.AxesImage at 0x7f5b82bcf860>"
      ]
     },
     "execution_count": 7,
     "metadata": {},
     "output_type": "execute_result"
    },
    {
     "data": {
      "image/png": "[encoded data removed]",
      "text/plain": [
       "<Figure size 432x288 with 1 Axes>"
      ]
     },
     "metadata": {},
     "output_type": "display_data"
    }
   ],
   "source": [
    "noise_plot = x_train_noisy[1,:,:] - x_train[1,:,:]\n",
    "plt.imshow(noise_plot , cmap = 'gray')"
   ]
  },
  {
   "cell_type": "code",
   "execution_count": 8,
   "metadata": {},
   "outputs": [],
   "source": [
    "image_size = x_train.shape[1]\n",
    "x_train = np.reshape(x_train, [-1, image_size, image_size, 1])\n",
    "x_test = np.reshape(x_test, [-1, image_size, image_size, 1])\n",
    "x_train = x_train.astype('float32') / 255\n",
    "x_test = x_test.astype('float32') / 255"
   ]
  },
  {
   "cell_type": "code",
   "execution_count": 9,
   "metadata": {},
   "outputs": [
    {
     "data": {
      "text/plain": [
       "(60000, 28, 28)"
      ]
     },
     "execution_count": 9,
     "metadata": {},
     "output_type": "execute_result"
    }
   ],
   "source": [
    "x_train_noisy.shape"
   ]
  },
  {
   "cell_type": "code",
   "execution_count": 10,
   "metadata": {},
   "outputs": [],
   "source": [
    "noise = np.random.normal(loc=0, scale=1, size=x_train.shape)\n",
    "x_train_noisy = x_train + noise"
   ]
  },
  {
   "cell_type": "code",
   "execution_count": 11,
   "metadata": {},
   "outputs": [],
   "source": [
    "x_train_noisy = np.clip(x_train_noisy, 0., 1.)\n",
    "x_test_noisy = np.clip(x_test_noisy, 0., 1.)"
   ]
  },
  {
   "cell_type": "code",
   "execution_count": 12,
   "metadata": {},
   "outputs": [],
   "source": [
    "input_shape = (image_size, image_size, 1)\n",
    "batch_size = 128\n",
    "kernel_size = 3\n",
    "latent_dim = 16\n",
    "act = 'relu'"
   ]
  },
  {
   "cell_type": "code",
   "execution_count": 13,
   "metadata": {},
   "outputs": [],
   "source": [
    "model = Sequential()"
   ]
  },
  {
   "cell_type": "code",
   "execution_count": 14,
   "metadata": {},
   "outputs": [],
   "source": [
    "model.add(Conv2D(8 , 3 , input_shape = (28,28,1)))\n",
    "model.add(Activation(act))\n",
    "\n",
    "model.add(Conv2D(16 , 3))\n",
    "model.add(Activation(act))\n",
    "\n",
    "model.add(Conv2D(32 , 3))\n",
    "model.add(Activation(act))\n",
    "\n",
    "model.add(Conv2D(64,3))\n",
    "model.add(Activation(act))\n",
    "\n",
    "model.add(Conv2DTranspose(64,3))\n",
    "model.add(Activation(act))\n",
    "\n",
    "model.add(Conv2DTranspose(16,3))\n",
    "model.add(Activation(act))\n",
    "\n",
    "model.add(Conv2DTranspose(8,3))\n",
    "model.add(Activation(act))\n",
    "\n",
    "model.add(Conv2DTranspose(1,3))\n",
    "model.add(Activation(act))"
   ]
  },
  {
   "cell_type": "code",
   "execution_count": 15,
   "metadata": {},
   "outputs": [
    {
     "name": "stdout",
     "output_type": "stream",
     "text": [
      "_________________________________________________________________\n",
      "Layer (type)                 Output Shape              Param #   \n",
      "=================================================================\n",
      "conv2d_1 (Conv2D)            (None, 26, 26, 8)         80        \n",
      "_________________________________________________________________\n",
      "activation_1 (Activation)    (None, 26, 26, 8)         0         \n",
      "_________________________________________________________________\n",
      "conv2d_2 (Conv2D)            (None, 24, 24, 16)        1168      \n",
      "_________________________________________________________________\n",
      "activation_2 (Activation)    (None, 24, 24, 16)        0         \n",
      "_________________________________________________________________\n",
      "conv2d_3 (Conv2D)            (None, 22, 22, 32)        4640      \n",
      "_________________________________________________________________\n",
      "activation_3 (Activation)    (None, 22, 22, 32)        0         \n",
      "_________________________________________________________________\n",
      "conv2d_4 (Conv2D)            (None, 20, 20, 64)        18496     \n",
      "_________________________________________________________________\n",
      "activation_4 (Activation)    (None, 20, 20, 64)        0         \n",
      "_________________________________________________________________\n",
      "conv2d_transpose_1 (Conv2DTr (None, 22, 22, 64)        36928     \n",
      "_________________________________________________________________\n",
      "activation_5 (Activation)    (None, 22, 22, 64)        0         \n",
      "_________________________________________________________________\n",
      "conv2d_transpose_2 (Conv2DTr (None, 24, 24, 16)        9232      \n",
      "_________________________________________________________________\n",
      "activation_6 (Activation)    (None, 24, 24, 16)        0         \n",
      "_________________________________________________________________\n",
      "conv2d_transpose_3 (Conv2DTr (None, 26, 26, 8)         1160      \n",
      "_________________________________________________________________\n",
      "activation_7 (Activation)    (None, 26, 26, 8)         0         \n",
      "_________________________________________________________________\n",
      "conv2d_transpose_4 (Conv2DTr (None, 28, 28, 1)         73        \n",
      "_________________________________________________________________\n",
      "activation_8 (Activation)    (None, 28, 28, 1)         0         \n",
      "=================================================================\n",
      "Total params: 71,777\n",
      "Trainable params: 71,777\n",
      "Non-trainable params: 0\n",
      "_________________________________________________________________\n"
     ]
    }
   ],
   "source": [
    "model.summary()"
   ]
  },
  {
   "cell_type": "code",
   "execution_count": 16,
   "metadata": {},
   "outputs": [],
   "source": [
    "model.compile(loss = 'mse' , optimizer = 'adam')"
   ]
  },
  {
   "cell_type": "code",
   "execution_count": 17,
   "metadata": {},
   "outputs": [
    {
     "name": "stdout",
     "output_type": "stream",
     "text": [
      "Epoch 1/10000\n",
      "60000/60000 [==============================] - 287s 5ms/step - loss: 0.0353\n",
      "Epoch 2/10000\n",
      "60000/60000 [==============================] - 285s 5ms/step - loss: 0.0327\n",
      "Epoch 3/10000\n",
      "60000/60000 [==============================] - 284s 5ms/step - loss: 0.0320\n",
      "Epoch 4/10000\n",
      "60000/60000 [==============================] - 284s 5ms/step - loss: 0.0316\n",
      "Epoch 5/10000\n",
      "60000/60000 [==============================] - 284s 5ms/step - loss: 0.0313\n",
      "Epoch 6/10000\n",
      "60000/60000 [==============================] - 285s 5ms/step - loss: 0.0312\n",
      "Epoch 7/10000\n",
      "60000/60000 [==============================] - 287s 5ms/step - loss: 0.0310\n",
      "Epoch 8/10000\n",
      "60000/60000 [==============================] - 286s 5ms/step - loss: 0.0309\n",
      "Epoch 9/10000\n",
      "60000/60000 [==============================] - 285s 5ms/step - loss: 0.0307\n",
      "Epoch 10/10000\n",
      "60000/60000 [==============================] - 285s 5ms/step - loss: 0.0307\n",
      "Epoch 11/10000\n",
      "60000/60000 [==============================] - 287s 5ms/step - loss: 0.0306\n",
      "Epoch 12/10000\n",
      "60000/60000 [==============================] - 286s 5ms/step - loss: 0.0305\n",
      "Epoch 13/10000\n",
      "60000/60000 [==============================] - 287s 5ms/step - loss: 0.0304\n",
      "Epoch 14/10000\n",
      "60000/60000 [==============================] - 286s 5ms/step - loss: 0.0303\n",
      "Epoch 15/10000\n",
      "60000/60000 [==============================] - 287s 5ms/step - loss: 0.0303\n",
      "Epoch 16/10000\n",
      "60000/60000 [==============================] - 288s 5ms/step - loss: 0.0302\n",
      "Epoch 17/10000\n",
      "60000/60000 [==============================] - 286s 5ms/step - loss: 0.0302\n",
      "Epoch 18/10000\n",
      "60000/60000 [==============================] - 286s 5ms/step - loss: 0.0301\n",
      "Epoch 19/10000\n",
      "60000/60000 [==============================] - 286s 5ms/step - loss: 0.0301\n",
      "Epoch 20/10000\n",
      "60000/60000 [==============================] - 287s 5ms/step - loss: 0.0301\n",
      "Epoch 21/10000\n",
      "60000/60000 [==============================] - 287s 5ms/step - loss: 0.0300\n",
      "Epoch 22/10000\n",
      "60000/60000 [==============================] - 285s 5ms/step - loss: 0.0300\n",
      "Epoch 23/10000\n",
      "60000/60000 [==============================] - 285s 5ms/step - loss: 0.0299\n",
      "Epoch 24/10000\n",
      "60000/60000 [==============================] - 286s 5ms/step - loss: 0.0299\n",
      "Epoch 25/10000\n",
      "60000/60000 [==============================] - 287s 5ms/step - loss: 0.0299\n",
      "Epoch 26/10000\n",
      "60000/60000 [==============================] - 288s 5ms/step - loss: 0.0299\n",
      "Epoch 27/10000\n",
      "60000/60000 [==============================] - 288s 5ms/step - loss: 0.0298\n",
      "Epoch 28/10000\n",
      "60000/60000 [==============================] - 286s 5ms/step - loss: 0.0298\n",
      "Epoch 29/10000\n",
      "60000/60000 [==============================] - 288s 5ms/step - loss: 0.0298\n",
      "Epoch 30/10000\n",
      "60000/60000 [==============================] - 287s 5ms/step - loss: 0.0297\n",
      "Epoch 31/10000\n",
      "60000/60000 [==============================] - 287s 5ms/step - loss: 0.0297\n",
      "Epoch 32/10000\n",
      "60000/60000 [==============================] - 287s 5ms/step - loss: 0.0297\n",
      "Epoch 33/10000\n",
      "60000/60000 [==============================] - 289s 5ms/step - loss: 0.0296\n",
      "Epoch 34/10000\n",
      "60000/60000 [==============================] - 287s 5ms/step - loss: 0.0296\n",
      "Epoch 35/10000\n",
      "60000/60000 [==============================] - 287s 5ms/step - loss: 0.0296\n",
      "Epoch 36/10000\n",
      "60000/60000 [==============================] - 287s 5ms/step - loss: 0.0296\n",
      "Epoch 37/10000\n",
      "60000/60000 [==============================] - 287s 5ms/step - loss: 0.0296\n",
      "Epoch 38/10000\n",
      "60000/60000 [==============================] - 290s 5ms/step - loss: 0.0295\n",
      "Epoch 39/10000\n",
      "60000/60000 [==============================] - 289s 5ms/step - loss: 0.0295\n",
      "Epoch 40/10000\n",
      "60000/60000 [==============================] - 288s 5ms/step - loss: 0.0295\n",
      "Epoch 41/10000\n",
      "60000/60000 [==============================] - 288s 5ms/step - loss: 0.0295\n",
      "Epoch 42/10000\n",
      "60000/60000 [==============================] - 289s 5ms/step - loss: 0.0295\n",
      "Epoch 43/10000\n",
      "60000/60000 [==============================] - 288s 5ms/step - loss: 0.0294\n",
      "Epoch 44/10000\n",
      "60000/60000 [==============================] - 288s 5ms/step - loss: 0.0294\n",
      "Epoch 45/10000\n",
      "60000/60000 [==============================] - 287s 5ms/step - loss: 0.0294\n",
      "Epoch 46/10000\n",
      "60000/60000 [==============================] - 289s 5ms/step - loss: 0.0294\n",
      "Epoch 47/10000\n",
      "60000/60000 [==============================] - 288s 5ms/step - loss: 0.0294\n",
      "Epoch 48/10000\n",
      "60000/60000 [==============================] - 290s 5ms/step - loss: 0.0294\n",
      "Epoch 49/10000\n",
      "60000/60000 [==============================] - 291s 5ms/step - loss: 0.0293\n",
      "Epoch 50/10000\n",
      "60000/60000 [==============================] - 290s 5ms/step - loss: 0.0293\n",
      "Epoch 51/10000\n",
      "60000/60000 [==============================] - 290s 5ms/step - loss: 0.0293\n",
      "Epoch 52/10000\n",
      "60000/60000 [==============================] - 291s 5ms/step - loss: 0.0293\n",
      "Epoch 53/10000\n",
      "60000/60000 [==============================] - 287s 5ms/step - loss: 0.0293\n",
      "Epoch 54/10000\n",
      "60000/60000 [==============================] - 286s 5ms/step - loss: 0.0292\n",
      "Epoch 55/10000\n",
      "60000/60000 [==============================] - 286s 5ms/step - loss: 0.0293\n",
      "Epoch 56/10000\n",
      "60000/60000 [==============================] - 285s 5ms/step - loss: 0.0292\n",
      "Epoch 57/10000\n",
      "60000/60000 [==============================] - 287s 5ms/step - loss: 0.0292\n",
      "Epoch 58/10000\n",
      "60000/60000 [==============================] - 287s 5ms/step - loss: 0.0292\n",
      "Epoch 59/10000\n",
      "60000/60000 [==============================] - 288s 5ms/step - loss: 0.0292\n",
      "Epoch 60/10000\n",
      "60000/60000 [==============================] - 286s 5ms/step - loss: 0.0292\n",
      "Epoch 61/10000\n",
      "60000/60000 [==============================] - 287s 5ms/step - loss: 0.0292\n",
      "Epoch 62/10000\n",
      "60000/60000 [==============================] - 287s 5ms/step - loss: 0.0291\n",
      "Epoch 63/10000\n",
      "60000/60000 [==============================] - 288s 5ms/step - loss: 0.0291\n",
      "Epoch 64/10000\n",
      "60000/60000 [==============================] - 286s 5ms/step - loss: 0.0291\n",
      "Epoch 65/10000\n",
      "60000/60000 [==============================] - 286s 5ms/step - loss: 0.0291\n",
      "Epoch 66/10000\n",
      "60000/60000 [==============================] - 286s 5ms/step - loss: 0.0291\n",
      "Epoch 67/10000\n",
      "60000/60000 [==============================] - 286s 5ms/step - loss: 0.0291\n",
      "Epoch 68/10000\n",
      "60000/60000 [==============================] - 288s 5ms/step - loss: 0.0290\n",
      "Epoch 69/10000\n",
      "60000/60000 [==============================] - 288s 5ms/step - loss: 0.0290\n",
      "Epoch 70/10000\n",
      "60000/60000 [==============================] - 288s 5ms/step - loss: 0.0290\n",
      "Epoch 71/10000\n",
      "60000/60000 [==============================] - 287s 5ms/step - loss: 0.0290\n",
      "Epoch 72/10000\n",
      "60000/60000 [==============================] - 287s 5ms/step - loss: 0.0290\n",
      "Epoch 73/10000\n",
      "60000/60000 [==============================] - 289s 5ms/step - loss: 0.0290\n",
      "Epoch 74/10000\n",
      "60000/60000 [==============================] - 289s 5ms/step - loss: 0.0290\n",
      "Epoch 75/10000\n",
      "60000/60000 [==============================] - 288s 5ms/step - loss: 0.0290\n",
      "Epoch 76/10000\n",
      "60000/60000 [==============================] - 287s 5ms/step - loss: 0.0290\n",
      "Epoch 77/10000\n",
      "60000/60000 [==============================] - 287s 5ms/step - loss: 0.0289\n",
      "Epoch 78/10000\n",
      "60000/60000 [==============================] - 286s 5ms/step - loss: 0.0289\n",
      "Epoch 79/10000\n",
      "60000/60000 [==============================] - 288s 5ms/step - loss: 0.0289\n",
      "Epoch 80/10000\n",
      "60000/60000 [==============================] - 288s 5ms/step - loss: 0.0289\n",
      "Epoch 81/10000\n",
      "60000/60000 [==============================] - 287s 5ms/step - loss: 0.0289\n",
      "Epoch 82/10000\n",
      "60000/60000 [==============================] - 288s 5ms/step - loss: 0.0289\n",
      "Epoch 83/10000\n",
      "60000/60000 [==============================] - 287s 5ms/step - loss: 0.0289\n",
      "Epoch 84/10000\n",
      "60000/60000 [==============================] - 288s 5ms/step - loss: 0.0288\n",
      "Epoch 85/10000\n",
      "60000/60000 [==============================] - 287s 5ms/step - loss: 0.0288\n",
      "Epoch 86/10000\n",
      "60000/60000 [==============================] - 287s 5ms/step - loss: 0.0288\n",
      "Epoch 87/10000\n",
      "60000/60000 [==============================] - 287s 5ms/step - loss: 0.0288\n",
      "Epoch 88/10000\n",
      "60000/60000 [==============================] - 288s 5ms/step - loss: 0.0288\n",
      "Epoch 89/10000\n",
      "60000/60000 [==============================] - 288s 5ms/step - loss: 0.0288\n",
      "Epoch 90/10000\n",
      "60000/60000 [==============================] - 288s 5ms/step - loss: 0.0288\n",
      "Epoch 91/10000\n"
     ]
    },
    {
     "name": "stdout",
     "output_type": "stream",
     "text": [
      "60000/60000 [==============================] - 284s 5ms/step - loss: 0.0288\n",
      "Epoch 92/10000\n",
      "60000/60000 [==============================] - 284s 5ms/step - loss: 0.0288\n",
      "Epoch 93/10000\n",
      "60000/60000 [==============================] - 283s 5ms/step - loss: 0.0288\n",
      "Epoch 94/10000\n",
      "60000/60000 [==============================] - 284s 5ms/step - loss: 0.0288\n",
      "Epoch 95/10000\n",
      "60000/60000 [==============================] - 286s 5ms/step - loss: 0.0288\n",
      "Epoch 96/10000\n",
      "60000/60000 [==============================] - 285s 5ms/step - loss: 0.0288\n",
      "Epoch 97/10000\n",
      "60000/60000 [==============================] - 285s 5ms/step - loss: 0.0287\n",
      "Epoch 98/10000\n",
      "60000/60000 [==============================] - 284s 5ms/step - loss: 0.0287\n",
      "Epoch 99/10000\n",
      "60000/60000 [==============================] - 284s 5ms/step - loss: 0.0287\n",
      "Epoch 100/10000\n",
      "60000/60000 [==============================] - 285s 5ms/step - loss: 0.0287\n",
      "Epoch 101/10000\n",
      "50880/60000 [========================>.....] - ETA: 43s - loss: 0.0286"
     ]
    },
    {
     "ename": "KeyboardInterrupt",
     "evalue": "",
     "output_type": "error",
     "traceback": [
      "\u001b[0;31m---------------------------------------------------------------------------\u001b[0m",
      "\u001b[0;31mKeyboardInterrupt\u001b[0m                         Traceback (most recent call last)",
      "\u001b[0;32m<ipython-input-17-1c11b345a87f>\u001b[0m in \u001b[0;36m<module>\u001b[0;34m()\u001b[0m\n\u001b[0;32m----> 1\u001b[0;31m \u001b[0mmodel\u001b[0m\u001b[0;34m.\u001b[0m\u001b[0mfit\u001b[0m\u001b[0;34m(\u001b[0m\u001b[0mx_train_noisy\u001b[0m \u001b[0;34m,\u001b[0m \u001b[0mx_train\u001b[0m \u001b[0;34m,\u001b[0m \u001b[0mverbose\u001b[0m \u001b[0;34m=\u001b[0m \u001b[0;36m1\u001b[0m \u001b[0;34m,\u001b[0m \u001b[0mepochs\u001b[0m \u001b[0;34m=\u001b[0m \u001b[0;36m10000\u001b[0m\u001b[0;34m)\u001b[0m\u001b[0;34m\u001b[0m\u001b[0m\n\u001b[0m",
      "\u001b[0;32m/usr/local/lib/python3.5/dist-packages/keras/engine/training.py\u001b[0m in \u001b[0;36mfit\u001b[0;34m(self, x, y, batch_size, epochs, verbose, callbacks, validation_split, validation_data, shuffle, class_weight, sample_weight, initial_epoch, steps_per_epoch, validation_steps, **kwargs)\u001b[0m\n\u001b[1;32m   1040\u001b[0m                                         \u001b[0minitial_epoch\u001b[0m\u001b[0;34m=\u001b[0m\u001b[0minitial_epoch\u001b[0m\u001b[0;34m,\u001b[0m\u001b[0;34m\u001b[0m\u001b[0m\n\u001b[1;32m   1041\u001b[0m                                         \u001b[0msteps_per_epoch\u001b[0m\u001b[0;34m=\u001b[0m\u001b[0msteps_per_epoch\u001b[0m\u001b[0;34m,\u001b[0m\u001b[0;34m\u001b[0m\u001b[0m\n\u001b[0;32m-> 1042\u001b[0;31m                                         validation_steps=validation_steps)\n\u001b[0m\u001b[1;32m   1043\u001b[0m \u001b[0;34m\u001b[0m\u001b[0m\n\u001b[1;32m   1044\u001b[0m     def evaluate(self, x=None, y=None,\n",
      "\u001b[0;32m/usr/local/lib/python3.5/dist-packages/keras/engine/training_arrays.py\u001b[0m in \u001b[0;36mfit_loop\u001b[0;34m(model, f, ins, out_labels, batch_size, epochs, verbose, callbacks, val_f, val_ins, shuffle, callback_metrics, initial_epoch, steps_per_epoch, validation_steps)\u001b[0m\n\u001b[1;32m    197\u001b[0m                     \u001b[0mins_batch\u001b[0m\u001b[0;34m[\u001b[0m\u001b[0mi\u001b[0m\u001b[0;34m]\u001b[0m \u001b[0;34m=\u001b[0m \u001b[0mins_batch\u001b[0m\u001b[0;34m[\u001b[0m\u001b[0mi\u001b[0m\u001b[0;34m]\u001b[0m\u001b[0;34m.\u001b[0m\u001b[0mtoarray\u001b[0m\u001b[0;34m(\u001b[0m\u001b[0;34m)\u001b[0m\u001b[0;34m\u001b[0m\u001b[0m\n\u001b[1;32m    198\u001b[0m \u001b[0;34m\u001b[0m\u001b[0m\n\u001b[0;32m--> 199\u001b[0;31m                 \u001b[0mouts\u001b[0m \u001b[0;34m=\u001b[0m \u001b[0mf\u001b[0m\u001b[0;34m(\u001b[0m\u001b[0mins_batch\u001b[0m\u001b[0;34m)\u001b[0m\u001b[0;34m\u001b[0m\u001b[0m\n\u001b[0m\u001b[1;32m    200\u001b[0m                 \u001b[0;32mif\u001b[0m \u001b[0;32mnot\u001b[0m \u001b[0misinstance\u001b[0m\u001b[0;34m(\u001b[0m\u001b[0mouts\u001b[0m\u001b[0;34m,\u001b[0m \u001b[0mlist\u001b[0m\u001b[0;34m)\u001b[0m\u001b[0;34m:\u001b[0m\u001b[0;34m\u001b[0m\u001b[0m\n\u001b[1;32m    201\u001b[0m                     \u001b[0mouts\u001b[0m \u001b[0;34m=\u001b[0m \u001b[0;34m[\u001b[0m\u001b[0mouts\u001b[0m\u001b[0;34m]\u001b[0m\u001b[0;34m\u001b[0m\u001b[0m\n",
      "\u001b[0;32m/usr/local/lib/python3.5/dist-packages/keras/backend/tensorflow_backend.py\u001b[0m in \u001b[0;36m__call__\u001b[0;34m(self, inputs)\u001b[0m\n\u001b[1;32m   2659\u001b[0m                 \u001b[0;32mreturn\u001b[0m \u001b[0mself\u001b[0m\u001b[0;34m.\u001b[0m\u001b[0m_legacy_call\u001b[0m\u001b[0;34m(\u001b[0m\u001b[0minputs\u001b[0m\u001b[0;34m)\u001b[0m\u001b[0;34m\u001b[0m\u001b[0m\n\u001b[1;32m   2660\u001b[0m \u001b[0;34m\u001b[0m\u001b[0m\n\u001b[0;32m-> 2661\u001b[0;31m             \u001b[0;32mreturn\u001b[0m \u001b[0mself\u001b[0m\u001b[0;34m.\u001b[0m\u001b[0m_call\u001b[0m\u001b[0;34m(\u001b[0m\u001b[0minputs\u001b[0m\u001b[0;34m)\u001b[0m\u001b[0;34m\u001b[0m\u001b[0m\n\u001b[0m\u001b[1;32m   2662\u001b[0m         \u001b[0;32melse\u001b[0m\u001b[0;34m:\u001b[0m\u001b[0;34m\u001b[0m\u001b[0m\n\u001b[1;32m   2663\u001b[0m             \u001b[0;32mif\u001b[0m \u001b[0mpy_any\u001b[0m\u001b[0;34m(\u001b[0m\u001b[0mis_tensor\u001b[0m\u001b[0;34m(\u001b[0m\u001b[0mx\u001b[0m\u001b[0;34m)\u001b[0m \u001b[0;32mfor\u001b[0m \u001b[0mx\u001b[0m \u001b[0;32min\u001b[0m \u001b[0minputs\u001b[0m\u001b[0;34m)\u001b[0m\u001b[0;34m:\u001b[0m\u001b[0;34m\u001b[0m\u001b[0m\n",
      "\u001b[0;32m/usr/local/lib/python3.5/dist-packages/keras/backend/tensorflow_backend.py\u001b[0m in \u001b[0;36m_call\u001b[0;34m(self, inputs)\u001b[0m\n\u001b[1;32m   2629\u001b[0m                                 \u001b[0msymbol_vals\u001b[0m\u001b[0;34m,\u001b[0m\u001b[0;34m\u001b[0m\u001b[0m\n\u001b[1;32m   2630\u001b[0m                                 session)\n\u001b[0;32m-> 2631\u001b[0;31m         \u001b[0mfetched\u001b[0m \u001b[0;34m=\u001b[0m \u001b[0mself\u001b[0m\u001b[0;34m.\u001b[0m\u001b[0m_callable_fn\u001b[0m\u001b[0;34m(\u001b[0m\u001b[0;34m*\u001b[0m\u001b[0marray_vals\u001b[0m\u001b[0;34m)\u001b[0m\u001b[0;34m\u001b[0m\u001b[0m\n\u001b[0m\u001b[1;32m   2632\u001b[0m         \u001b[0;32mreturn\u001b[0m \u001b[0mfetched\u001b[0m\u001b[0;34m[\u001b[0m\u001b[0;34m:\u001b[0m\u001b[0mlen\u001b[0m\u001b[0;34m(\u001b[0m\u001b[0mself\u001b[0m\u001b[0;34m.\u001b[0m\u001b[0moutputs\u001b[0m\u001b[0;34m)\u001b[0m\u001b[0;34m]\u001b[0m\u001b[0;34m\u001b[0m\u001b[0m\n\u001b[1;32m   2633\u001b[0m \u001b[0;34m\u001b[0m\u001b[0m\n",
      "\u001b[0;32m/usr/local/lib/python3.5/dist-packages/tensorflow/python/client/session.py\u001b[0m in \u001b[0;36m__call__\u001b[0;34m(self, *args)\u001b[0m\n\u001b[1;32m   1449\u001b[0m         \u001b[0;32mif\u001b[0m \u001b[0mself\u001b[0m\u001b[0;34m.\u001b[0m\u001b[0m_session\u001b[0m\u001b[0;34m.\u001b[0m\u001b[0m_created_with_new_api\u001b[0m\u001b[0;34m:\u001b[0m\u001b[0;34m\u001b[0m\u001b[0m\n\u001b[1;32m   1450\u001b[0m           return tf_session.TF_SessionRunCallable(\n\u001b[0;32m-> 1451\u001b[0;31m               self._session._session, self._handle, args, status, None)\n\u001b[0m\u001b[1;32m   1452\u001b[0m         \u001b[0;32melse\u001b[0m\u001b[0;34m:\u001b[0m\u001b[0;34m\u001b[0m\u001b[0m\n\u001b[1;32m   1453\u001b[0m           return tf_session.TF_DeprecatedSessionRunCallable(\n",
      "\u001b[0;31mKeyboardInterrupt\u001b[0m: "
     ]
    }
   ],
   "source": [
    "model.fit(x_train_noisy , x_train , verbose = 1 , epochs = 10000)"
   ]
  },
  {
   "cell_type": "code",
   "execution_count": 18,
   "metadata": {},
   "outputs": [],
   "source": [
    "import h5py\n",
    "model.save('denoising-autenc.h5')        "
   ]
  },
  {
   "cell_type": "code",
   "execution_count": null,
   "metadata": {},
   "outputs": [],
   "source": []
  }
 ],
 "metadata": {
  "kernelspec": {
   "display_name": "Python 3",
   "language": "python",
   "name": "python3"
  },
  "language_info": {
   "codemirror_mode": {
    "name": "ipython",
    "version": 3
   },
   "file_extension": ".py",
   "mimetype": "text/x-python",
   "name": "python",
   "nbconvert_exporter": "python",
   "pygments_lexer": "ipython3",
   "version": "3.5.2"
  }
 },
 "nbformat": 4,
 "nbformat_minor": 2
}
